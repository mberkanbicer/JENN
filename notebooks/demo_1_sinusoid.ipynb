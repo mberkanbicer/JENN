{
 "cells": [
  {
   "cell_type": "markdown",
   "metadata": {},
   "source": [
    "# Tutorial 1: One-Dimensional Sinusoid\n",
    "\n",
    "Our goal will be to tetrainach a neural network to predict one-dimensional sinusoidal function, given as: \n",
    "\n",
    "$\n",
    "y = x \\sin(x)\n",
    "$"
   ]
  },
  {
   "cell_type": "code",
   "execution_count": 1,
   "metadata": {},
   "outputs": [],
   "source": [
    "import jenn"
   ]
  },
  {
   "cell_type": "markdown",
   "metadata": {},
   "source": [
    "### Synthetic Data"
   ]
  },
  {
   "cell_type": "markdown",
   "metadata": {},
   "source": [
    "In a first step, let's load the test function:"
   ]
  },
  {
   "cell_type": "code",
   "execution_count": 2,
   "metadata": {},
   "outputs": [],
   "source": [
    "test_function = jenn.synthetic.Sinusoid"
   ]
  },
  {
   "cell_type": "markdown",
   "metadata": {},
   "source": [
    "Next, let's define the domain over which we will collect synthetic training data:"
   ]
  },
  {
   "cell_type": "code",
   "execution_count": 3,
   "metadata": {},
   "outputs": [],
   "source": [
    "lb, ub = (-3.14, 3.14)"
   ]
  },
  {
   "cell_type": "markdown",
   "metadata": {},
   "source": [
    "We will now generate some synthetic data that will be used to train our GENN model later on:"
   ]
  },
  {
   "cell_type": "code",
   "execution_count": 4,
   "metadata": {},
   "outputs": [],
   "source": [
    "x_train, y_train, dydx_train = test_function.sample(m_lhs=0, m_levels=4, lb=lb, ub=ub)"
   ]
  },
  {
   "cell_type": "markdown",
   "metadata": {},
   "source": [
    "We also generate some synthetic data that will be used to test the accuracy of the trained model:"
   ]
  },
  {
   "cell_type": "code",
   "execution_count": 5,
   "metadata": {},
   "outputs": [],
   "source": [
    "x_test, y_test, dydx_test = test_function.sample(m_lhs=30, m_levels=0, lb=lb, ub=ub)"
   ]
  },
  {
   "cell_type": "markdown",
   "metadata": {},
   "source": [
    "### Training"
   ]
  },
  {
   "cell_type": "markdown",
   "metadata": {},
   "source": [
    "Training can be done in one line of code. In this case, we'll train both a regular neural networks (nn):"
   ]
  },
  {
   "cell_type": "code",
   "execution_count": 6,
   "metadata": {},
   "outputs": [
    {
     "name": "stdout",
     "output_type": "stream",
     "text": [
      "elapsed time: 0.046 s\n"
     ]
    }
   ],
   "source": [
    "nn = jenn.model.NeuralNet(\n",
    "    layer_sizes=[1, 12, 1],\n",
    ").fit(\n",
    "    x=x_train, \n",
    "    y=y_train, \n",
    "    lambd=0.1, \n",
    "    is_timed=True, \n",
    "    is_normalize=True,\n",
    ")"
   ]
  },
  {
   "cell_type": "markdown",
   "metadata": {},
   "source": [
    "and also a gradient-enhanced neural net (genn) for comparison: "
   ]
  },
  {
   "cell_type": "code",
   "execution_count": 7,
   "metadata": {},
   "outputs": [
    {
     "name": "stdout",
     "output_type": "stream",
     "text": [
      "elapsed time: 0.049 s\n"
     ]
    }
   ],
   "source": [
    "genn = jenn.model.NeuralNet(layer_sizes=[1, 12, 1]).fit(x_train, y_train, dydx_train, lambd=0.1, is_timed=True)"
   ]
  },
  {
   "cell_type": "markdown",
   "metadata": {},
   "source": [
    "### Visualization"
   ]
  },
  {
   "cell_type": "markdown",
   "metadata": {},
   "source": [
    "With only four data points, a near-perfect fit is obtained using gradient-enhancement, whereas a regular neural net fails to capture the response:   "
   ]
  },
  {
   "cell_type": "code",
   "execution_count": 8,
   "metadata": {},
   "outputs": [
    {
     "data": {
      "image/png": "[encoded data removed]",
      "text/plain": [
       "<Figure size 325x300 with 1 Axes>"
      ]
     },
     "execution_count": 8,
     "metadata": {},
     "output_type": "execute_result"
    }
   ],
   "source": [
    "jenn.utils.plot.sensitivity_profiles(\n",
    "    f=[jenn.synthetic.Sinusoid.evaluate, nn.predict, genn.predict], \n",
    "    x_min=x_train.min(), \n",
    "    x_max=x_train.max(), \n",
    "    x_true=x_train, \n",
    "    y_true=y_train, \n",
    "    resolution=100, \n",
    "    legend=['true', 'nn', 'genn'], \n",
    "    xlabels=['x'], \n",
    "    ylabels=['y'],\n",
    ")"
   ]
  },
  {
   "cell_type": "markdown",
   "metadata": {},
   "source": [
    "### Save / Reload Model"
   ]
  },
  {
   "cell_type": "markdown",
   "metadata": {},
   "source": [
    "Model parameters are serialized. They can be easily saved as `json` and reloaded later. \n",
    "\n",
    "_Save old model_: "
   ]
  },
  {
   "cell_type": "code",
   "execution_count": 9,
   "metadata": {},
   "outputs": [],
   "source": [
    "old_model = genn\n",
    "old_model.parameters.save('parameters.json')"
   ]
  },
  {
   "cell_type": "markdown",
   "metadata": {},
   "source": [
    "_Reload old model_:"
   ]
  },
  {
   "cell_type": "code",
   "execution_count": 10,
   "metadata": {},
   "outputs": [],
   "source": [
    "new_model = jenn.model.NeuralNet(layer_sizes=[1, 3, 1])  # layer_sizes will be overwritten upon reload\n",
    "new_model.parameters.load('parameters.json')"
   ]
  },
  {
   "cell_type": "markdown",
   "metadata": {},
   "source": [
    "_Verify that old and new model agree_:"
   ]
  },
  {
   "cell_type": "code",
   "execution_count": 11,
   "metadata": {},
   "outputs": [],
   "source": [
    "assert (new_model.predict(x_test) == old_model.predict(x_test)).all()"
   ]
  }
 ],
 "metadata": {
  "kernelspec": {
   "display_name": "Python 3 (ipykernel)",
   "language": "python",
   "name": "python3"
  },
  "language_info": {
   "codemirror_mode": {
    "name": "ipython",
    "version": 3
   },
   "file_extension": ".py",
   "mimetype": "text/x-python",
   "name": "python",
   "nbconvert_exporter": "python",
   "pygments_lexer": "ipython3",
   "version": "3.11.0"
  }
 },
 "nbformat": 4,
 "nbformat_minor": 4
}
