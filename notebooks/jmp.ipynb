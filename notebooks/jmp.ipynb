{
 "cells": [
  {
   "cell_type": "markdown",
   "id": "49e0ac5a-25d6-4499-866d-23374aa2c353",
   "metadata": {},
   "source": [
    "# JMP\n",
    "\n",
    "Sometimes it's just easier to train a model in JMP using the GUI, rather than writing code. However, porting trained JMP models into Python so they can be used to support further analysis is a common use-case. JENN offers utilities to extract neural net parameters from JMP formulas and load them into a NeuralNet object that Python understands. This notebook provides an example. "
   ]
  },
  {
   "cell_type": "markdown",
   "id": "3dc02657-f73b-4403-a295-cf8d4f1b839f",
   "metadata": {},
   "source": [
    "### Libraries"
   ]
  },
  {
   "cell_type": "code",
   "execution_count": 1,
   "id": "56b3e3a1-43a9-45df-a149-2a68066151d9",
   "metadata": {},
   "outputs": [],
   "source": [
    "import jenn\n",
    "import numpy as np \n",
    "from jenn.utils import plot"
   ]
  },
  {
   "cell_type": "markdown",
   "id": "f3e4f03b-e10d-4245-a746-f86825e6f5f4",
   "metadata": {},
   "source": [
    "### Synthetic Data"
   ]
  },
  {
   "cell_type": "markdown",
   "id": "5f4ddaa4-7f79-42ca-af2e-c98e47ad1112",
   "metadata": {},
   "source": [
    "Let's generate some practice data for JMP. We'll use the Rastrigin function, defined as $f(x_1 \\cdots x_n) = 10n + \\sum_{i=1}^n \\left(x_i^2 -10 \\cos(2\\pi x_i)\\right)$"
   ]
  },
  {
   "cell_type": "code",
   "execution_count": 2,
   "id": "f24248f2-c2f6-4191-af4b-5848c0fbc44c",
   "metadata": {},
   "outputs": [],
   "source": [
    "xmin = (-1.0, -1.0)\n",
    "xmax = (1.5, 1.5)\n",
    "func = jenn.synthetic.Rastrigin\n",
    "x_train, y_train, dydx_train = func.sample(m_lhs=100, m_levels=0, lb=xmin, ub=xmax)\n",
    "x_test, y_test, dydx_test = func.sample(m_lhs=0, m_levels=10, lb=xmin, ub=xmax)"
   ]
  },
  {
   "cell_type": "markdown",
   "id": "5d22b453-49be-4fd6-8f43-49c1a23c5a8e",
   "metadata": {},
   "source": [
    "Save to file to it to CSV so it can be loaded in JMP: "
   ]
  },
  {
   "cell_type": "code",
   "execution_count": 3,
   "id": "7e969fc6-4493-4f22-97e6-a4b94321d5ba",
   "metadata": {},
   "outputs": [],
   "source": [
    "data_train = np.concatenate([x_train, y_train]).T\n",
    "data_test = np.concatenate([x_test, y_test]).T\n",
    "data = np.concatenate([data_test, data_test])\n",
    "np.savetxt(\"rastrigin.csv\", data, delimiter=\",\", header=\"x1, x2, y\", comments=\"\")"
   ]
  },
  {
   "cell_type": "markdown",
   "id": "dac1413d-48ad-4e29-a261-6e5b6e898c12",
   "metadata": {},
   "source": [
    "### JMP Formula\n",
    "\n",
    "The data above was used to train a JMP model offline. Using \"Save Profile Formulas\" and copy/paste, the resulting equation is given by: "
   ]
  },
  {
   "cell_type": "code",
   "execution_count": 4,
   "id": "0fc2978c-0b55-4f37-a19e-23e88edc5b68",
   "metadata": {},
   "outputs": [],
   "source": [
    "equation = \"\"\"6.63968579427224 + 2419.53609389846 * TanH(\n",
    "\t0.5 * (1.17629679110012 + -0.350827466968853 * :x1 + -0.441135986242386 * :x2)\n",
    ") + 926.302874298947 * TanH(\n",
    "\t0.5 * (0.0532227576798577 + 0.112094306256208 * :x1 + -0.589518737153198 * :x2)\n",
    ") + -4868.09413385432 * TanH(\n",
    "\t0.5 * (0.669012936934124 + -0.354310015265324 * :x1 + -0.442508530947179 * :x2)\n",
    ") + 364.826302675917 * TanH(\n",
    "\t0.5 * (0.181903867225405 + -0.400769569147237 * :x1 + -1.82765795570436 * :x2)\n",
    ") + 69.1044173973596 * TanH(\n",
    "\t0.5 * ((-1.33806951259538) + 5.05831585102242 * :x1 + 0.0768855196783658 * :x2)\n",
    ") + 1003.55161311844 * TanH(\n",
    "\t0.5 * (0.333506711905318 + -1.21092868596007 * :x1 + -0.094803759612578 * :x2)\n",
    ") + -105.644746963426 * TanH(\n",
    "\t0.5 * (0.0582830223989066 + -0.758691194673338 * :x1 + 0.193686573458068 * :x2)\n",
    ") + 28.9924537808578 * TanH(\n",
    "\t0.5 * (1.68489056740589 + 0.203695375799704 * :x1 + 1.55265433664034 * :x2)\n",
    ") + -16.1485832676648 * TanH(\n",
    "\t0.5 * (0.20830843078032 + 0.293819116867659 * :x1 + -3.34453047341792 * :x2)\n",
    ") + -40.871646830766 * TanH(\n",
    "\t0.5 * (1.94906272051484 + -0.446838471653994 * :x1 + -7.96896877293616 * :x2)\n",
    ") + 2.01890616631764 * TanH(\n",
    "\t0.5 * (0.501220953175385 + 1.35505831134419 * :x1 + -0.618548650974262 * :x2)\n",
    ") + 150.412884466318 * TanH(\n",
    "\t0.5 * (2.21033919158451 + -0.696779972041321 * :x1 + -1.69376087699982 * :x2)\n",
    ")\"\"\""
   ]
  },
  {
   "cell_type": "markdown",
   "id": "8357c0bf-497f-4239-acff-3c2d7aed7293",
   "metadata": {},
   "source": [
    "### JENN Parameters\n",
    "\n",
    "We can now parse the equation to return the equivalent JENN parameters. "
   ]
  },
  {
   "cell_type": "code",
   "execution_count": 5,
   "id": "6ba87a8c-8e99-4837-af94-751b4f56c4fe",
   "metadata": {},
   "outputs": [],
   "source": [
    "# ... "
   ]
  },
  {
   "cell_type": "code",
   "execution_count": 6,
   "id": "832d4982-d118-4e33-a5c0-8bd17c84ca27",
   "metadata": {},
   "outputs": [],
   "source": [
    "from typing import List, Tuple\n",
    "from jenn.core.parameters import Parameters\n",
    "from jenn.model import NeuralNet"
   ]
  },
  {
   "cell_type": "code",
   "execution_count": 7,
   "id": "d3826ca3-26f1-42a0-ac8b-911f71a65765",
   "metadata": {},
   "outputs": [],
   "source": [
    "def is_float(string: str) -> bool: \n",
    "    \"\"\"Check is string can be converted to float.\"\"\"\n",
    "    tokens = string.split(\".\")\n",
    "    for token in tokens: \n",
    "        if not token.replace(\"-\", \"\").isnumeric(): \n",
    "            return False\n",
    "    return True"
   ]
  },
  {
   "cell_type": "code",
   "execution_count": 8,
   "id": "9be3f45e-273f-4549-a62b-2cd5a1fbb8d9",
   "metadata": {},
   "outputs": [],
   "source": [
    "def count_repetitions(char: str, string: str): \n",
    "    \"\"\"Count number of times a character is repeated.\"\"\"\n",
    "    count = 0\n",
    "    for c in string: \n",
    "        if c == char: \n",
    "            count += 1\n",
    "    return count \n",
    "    "
   ]
  },
  {
   "cell_type": "code",
   "execution_count": 9,
   "id": "ef36f21d-7cea-44e0-a027-a4be23b348ce",
   "metadata": {},
   "outputs": [],
   "source": [
    "def is_empty(items: List[list]):\n",
    "    \"\"\"Return True is all items are empty lists.\"\"\"\n",
    "    if not isinstance(items, list): \n",
    "        return False\n",
    "    if all([item == [] for item in items]): \n",
    "        return True\n",
    "    if all([is_empty(item) for item in items]): \n",
    "        return True\n",
    "    return False"
   ]
  },
  {
   "cell_type": "code",
   "execution_count": 10,
   "id": "2660f965-a110-4d6e-98f1-a45cf62cd76c",
   "metadata": {},
   "outputs": [],
   "source": [
    "def expand(tokens: List[str]): \n",
    "    \"\"\"Expand w * (a * x + b) into (w * a * x + w * b).\"\"\"\n",
    "    updated = []\n",
    "    number_open_brackets = 0\n",
    "    factor = 1.0\n",
    "    skip = 0\n",
    "    for i, token in enumerate(tokens): \n",
    "        if skip > 0: \n",
    "            skip -= 1\n",
    "            continue\n",
    "        number_open_brackets += count_repetitions(\"(\", token) - count_repetitions(\")\", token)\n",
    "        if number_open_brackets == 0:\n",
    "            if is_float(token) and i < len(tokens) - 2: \n",
    "                if tokens[i+1] == \"*\": \n",
    "                    if tokens[i+2] == \"(\":\n",
    "                        factor = float(token)\n",
    "                        skip = 1\n",
    "                        continue\n",
    "            if token == \")\": \n",
    "                continue \n",
    "        if number_open_brackets == 1: \n",
    "            if token == \"(\": \n",
    "                continue \n",
    "            if tokens[i+1] == \")\": \n",
    "                factor = 1.0\n",
    "        if is_float(token) and number_open_brackets > 0:\n",
    "            token = str(float(token) * factor)\n",
    "        updated.append(token)\n",
    "    return updated"
   ]
  },
  {
   "cell_type": "code",
   "execution_count": 11,
   "id": "734f1b88-17bb-42bd-a20d-f74525a9c3cf",
   "metadata": {},
   "outputs": [],
   "source": [
    "def remove_unnecessary_brackets(tokens: list[str]): \n",
    "    \"\"\"Remove situations such as [\"(\", \"-1.33806951259538\", \")\"] where brackets aren't needed.\"\"\"\n",
    "    updated = []\n",
    "    skip = 0\n",
    "    N = len(tokens)\n",
    "    for i, token in enumerate(tokens): \n",
    "        if skip > 0: \n",
    "            skip -= 1\n",
    "            continue\n",
    "        if is_float(token): \n",
    "            if 0 < i < N: \n",
    "                if tokens[i-1] == \"(\" and tokens[i+1] == \")\": \n",
    "                    updated = updated[:i-1]\n",
    "                    skip = 1\n",
    "                    updated.append(token)\n",
    "                    continue \n",
    "        updated.append(token)\n",
    "    return updated"
   ]
  },
  {
   "cell_type": "code",
   "execution_count": 12,
   "id": "52a1db04-7eec-4976-b5f5-8ea75cc8dfb0",
   "metadata": {},
   "outputs": [],
   "source": [
    "def get_node_parameters(tokens: List[str]) -> Tuple[List[float], List[float], List[List[str]]]: \n",
    "    \"\"\"Return bias, weights, and activations associated with node in layer.\"\"\"\n",
    "    number_open_brackets = 0 \n",
    "    N = len(tokens)\n",
    "    biases = [] \n",
    "    weights = []\n",
    "    activations = []\n",
    "    activation = []\n",
    "    for i, token in enumerate(tokens): \n",
    "        number_open_brackets += count_repetitions(\"(\", token) - count_repetitions(\")\", token)\n",
    "        if number_open_brackets > 0: \n",
    "            activation.append(token)\n",
    "        if number_open_brackets == 0: \n",
    "            if activation: \n",
    "                activations.append(expand(activation[1:]))  # remove \"(\" b/c only want inputs of Tanh(...) \n",
    "            activation = []\n",
    "            if is_float(token):\n",
    "                if tokens[i+1] == \"+\": \n",
    "                    biases.append(float(token))  # there is only one per model in JMP\n",
    "                elif tokens[i+1] == \"*\": \n",
    "                    weights.append(float(token))\n",
    "    bias = [sum(biases)]\n",
    "    return  bias, weights, activations"
   ]
  },
  {
   "cell_type": "code",
   "execution_count": 13,
   "id": "6a56cf0e-b466-47fe-98d8-3532b35eb986",
   "metadata": {},
   "outputs": [],
   "source": [
    "def get_layer_parameters(nodes: list[list[str]]): \n",
    "    \"\"\"Return bias, weight, activations associated with current layer.\"\"\"\n",
    "    layer_biases = []\n",
    "    layer_weights = []\n",
    "    for node in nodes:  # for each node in layer\n",
    "        (\n",
    "            node_bias, \n",
    "            node_weights, \n",
    "            layer_activation_inputs,\n",
    "        ) = get_node_parameters(node) \n",
    "        layer_biases.append(node_bias)\n",
    "        layer_weights.append(node_weights)\n",
    "    return layer_biases, layer_weights, layer_activation_inputs"
   ]
  },
  {
   "cell_type": "code",
   "execution_count": 25,
   "id": "b05be13b-e979-485c-a723-a3793b2e73fb",
   "metadata": {},
   "outputs": [],
   "source": [
    "def from_jmp(equation: str) -> NeuralNet: \n",
    "    equation = equation.replace(\"(\", \" ( \")\n",
    "    equation = equation.replace(\")\", \" ) \")\n",
    "    equation = equation.replace(\"+\", \" + \")\n",
    "    equation = equation.replace(\"*\", \" * \")\n",
    "    tokens = remove_unnecessary_brackets(equation.split())\n",
    "\n",
    "    # Last layer \n",
    "    (\n",
    "        layer_bias, \n",
    "        layer_weights,  \n",
    "        previous_layer_activations,  # TanH(...) for each node in layer\n",
    "    ) = get_layer_parameters([tokens])  \n",
    "\n",
    "    # Initialize list of neural net parameters for each layer\n",
    "    biases = [layer_bias]\n",
    "    weights = [layer_weights]\n",
    "    \n",
    "    # Loop through previous layers\n",
    "    # while not is_empty(previous_layer_activations):  \n",
    "    if True:\n",
    "        (\n",
    "            layer_bias, \n",
    "            layer_weights, \n",
    "            previous_layer_activations,\n",
    "        ) = get_layer_parameters(nodes=previous_layer_activations)  \n",
    "        biases.append(layer_bias)\n",
    "        weights.append(layer_weights)\n",
    "    \n",
    "    N = len(biases)  # number of layers \n",
    "    b = [np.array(b) for b in reversed(biases)]\n",
    "    W = [np.array(W) for W in reversed(weights)]\n",
    "\n",
    "    kwargs = dict(\n",
    "        layer_sizes=[W[0].shape[1]] + [W[i].shape[0] for i in range(N)],\n",
    "        hidden_activation=\"tanh\", \n",
    "        output_activation=\"linear\",\n",
    "    )\n",
    "\n",
    "    neural = NeuralNet(**kwargs)\n",
    "    neural.parameters.initialize()\n",
    "\n",
    "    for i in range(1, N+1): \n",
    "        neural.parameters.W[i][:] = W[i-1]\n",
    "        neural.parameters.b[i][:] = b[i-1]\n",
    "    \n",
    "    return neural"
   ]
  },
  {
   "cell_type": "code",
   "execution_count": 30,
   "id": "c1e32106-e79b-4c94-a0e9-4907ae3ea598",
   "metadata": {
    "scrolled": true
   },
   "outputs": [
    {
     "name": "stdout",
     "output_type": "stream",
     "text": [
      "[array([[-0.17541373, -0.22056799],\n",
      "       [ 0.05604715, -0.29475937],\n",
      "       [-0.17715501, -0.22125427],\n",
      "       [-0.20038478, -0.91382898],\n",
      "       [ 2.52915793,  0.03844276],\n",
      "       [-0.60546434, -0.04740188],\n",
      "       [-0.3793456 ,  0.09684329],\n",
      "       [ 0.10184769,  0.77632717],\n",
      "       [ 0.14690956, -1.67226524],\n",
      "       [-0.22341924, -3.98448439],\n",
      "       [ 0.67752916, -0.30927433],\n",
      "       [-0.34838999, -0.84688044]]), array([[ 2.41953609e+03,  9.26302874e+02, -4.86809413e+03,\n",
      "         3.64826303e+02,  6.91044174e+01,  1.00355161e+03,\n",
      "        -1.05644747e+02,  2.89924538e+01, -1.61485833e+01,\n",
      "        -4.08716468e+01,  2.01890617e+00,  1.50412884e+02]])]\n"
     ]
    }
   ],
   "source": [
    "jmp_model = from_jmp(equation)"
   ]
  },
  {
   "cell_type": "code",
   "execution_count": 31,
   "id": "0a37de77-40a1-4f0f-9b00-625297fb8507",
   "metadata": {},
   "outputs": [
    {
     "data": {
      "image/png": "[encoded data removed]",
      "text/plain": [
       "<Figure size 650x300 with 2 Axes>"
      ]
     },
     "execution_count": 31,
     "metadata": {},
     "output_type": "execute_result"
    }
   ],
   "source": [
    "plot.goodness_of_fit(\n",
    "    y_true=y_test, \n",
    "    y_pred=jmp_model.predict(x_test),\n",
    "    title=\"NN\"\n",
    ")"
   ]
  },
  {
   "cell_type": "code",
   "execution_count": null,
   "id": "9e3b4cdd-2aad-46fc-8117-06669ffb7a88",
   "metadata": {},
   "outputs": [],
   "source": []
  }
 ],
 "metadata": {
  "kernelspec": {
   "display_name": "Python 3 (ipykernel)",
   "language": "python",
   "name": "python3"
  },
  "language_info": {
   "codemirror_mode": {
    "name": "ipython",
    "version": 3
   },
   "file_extension": ".py",
   "mimetype": "text/x-python",
   "name": "python",
   "nbconvert_exporter": "python",
   "pygments_lexer": "ipython3",
   "version": "3.12.4"
  }
 },
 "nbformat": 4,
 "nbformat_minor": 5
}
